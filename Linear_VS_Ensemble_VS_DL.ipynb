{
  "nbformat": 4,
  "nbformat_minor": 0,
  "metadata": {
    "colab": {
      "name": "Untitled7.ipynb",
      "provenance": [],
      "collapsed_sections": []
    },
    "kernelspec": {
      "name": "python3",
      "display_name": "Python 3"
    },
    "language_info": {
      "name": "python"
    }
  },
  "cells": [
    {
      "cell_type": "code",
      "source": [
        "import pandas as pd\n",
        "from collections import Counter\n",
        "from sklearn.model_selection import train_test_split\n",
        "from sklearn.preprocessing import StandardScaler\n",
        "from imblearn.over_sampling import SMOTE\n",
        "from sklearn.ensemble import RandomForestClassifier\n",
        "from sklearn.model_selection import GridSearchCV\n",
        "from sklearn.neural_network import MLPClassifier\n",
        "from sklearn.linear_model import SGDClassifier\n",
        "from sklearn import metrics\n",
        "from sklearn.metrics import accuracy_score\n",
        "import matplotlib.pyplot as plt\n",
        "import numpy as np"
      ],
      "metadata": {
        "id": "V9oj3X89hkCt"
      },
      "execution_count": 103,
      "outputs": []
    },
    {
      "cell_type": "markdown",
      "source": [
        "#**Loading the data**"
      ],
      "metadata": {
        "id": "5kMUTDo9yyoH"
      }
    },
    {
      "cell_type": "code",
      "execution_count": null,
      "metadata": {
        "colab": {
          "base_uri": "https://localhost:8080/"
        },
        "id": "2bzbVuwhgNA1",
        "outputId": "d879118c-6f73-454a-f9b9-9dfffc621ed5"
      },
      "outputs": [
        {
          "output_type": "stream",
          "name": "stdout",
          "text": [
            "EVENT_PRIMARY\n",
            "False    8207\n",
            "True      539\n",
            "Name: EVENT_PRIMARY, dtype: int64\n",
            "\n",
            "prior_true: 0.06162817287903041\n",
            "prior_false: 0.9383718271209696\n"
          ]
        }
      ],
      "source": [
        "### Loading the data\n",
        "\n",
        "#read data\n",
        "data = pd.read_csv('ex4_data.csv')\n",
        "\n",
        "#obtain labels\n",
        "labels = data.iloc[:,-1]\n",
        "\n",
        "#check classes ratio\n",
        "classes_count = labels.groupby(by = labels).count()\n",
        "num_samples = sum(classes_count)\n",
        "prior_true = classes_count[True]/num_samples\n",
        "prior_false = classes_count[False]/num_samples\n",
        "\n",
        "\n",
        "print(classes_count)\n",
        "print('')\n",
        "print('prior_true: ' + str(prior_true))\n",
        "print('prior_false: ' + str(prior_false))"
      ]
    },
    {
      "cell_type": "markdown",
      "source": [
        "#**Preproccess**"
      ],
      "metadata": {
        "id": "qkq2NZIdy5Yz"
      }
    },
    {
      "cell_type": "code",
      "source": [
        "### Cleaning and transformations\n",
        "\n",
        "categorial_cols = ['INTENSIVE', 'RACE4']\n",
        "binary_cols = ['INCLUSIONFRS','NOAGENTS','ASPIRIN','SUB_CKD','RACE_BLACK','FEMALE',\n",
        "                'SUB_CVD','SUB_CLINICALCVD','SUB_SUBCLINICALCVD','SUB_SENIOR','STATIN','EVENT_PRIMARY']\n",
        "\n",
        "#transform true false cols into binary\n",
        "for binary_col in binary_cols:\n",
        "  data[binary_col] = data[binary_col].astype(int)\n",
        "\n",
        "#transform categorial data into dummies\n",
        "data = pd.get_dummies(data, columns = categorial_cols, drop_first= True)\n",
        "\n",
        "#drop columns with null falues\n",
        "contains_null = data.columns[data.isnull().any()]\n",
        "data = data.drop(columns = contains_null)"
      ],
      "metadata": {
        "id": "v5aNx1gXgSHy"
      },
      "execution_count": null,
      "outputs": []
    },
    {
      "cell_type": "code",
      "source": [
        "### Scaling and class balancing\n",
        "\n",
        "# split to train and test\n",
        "y = labels\n",
        "X = data.drop(columns = ['EVENT_PRIMARY'])\n",
        "x_train, x_test, y_train, y_test = train_test_split(X, y, test_size=0.33, random_state = 315328898)\n",
        "\n",
        "# scaling the data\n",
        "scaler = StandardScaler()\n",
        "scaler.fit(x_train)\n",
        "x_train = scaler.transform(x_train)\n",
        "x_test = scaler.transform(x_test)\n",
        "\n",
        "# class balancig - generate syntetic samples with SMOTE\n",
        "smote = SMOTE(random_state = 315328898)\n",
        "x_smote, y_smote = smote.fit_resample(x_train, y_train)\n",
        "\n",
        "print('Original dataset shape', Counter(y_train))\n",
        "print('Resample dataset shape', Counter(y_smote))\n",
        "x_train, y_train = x_smote, y_smote"
      ],
      "metadata": {
        "colab": {
          "base_uri": "https://localhost:8080/"
        },
        "id": "xshqj-VSzAOg",
        "outputId": "14dbbc53-a222-4365-c90a-eb68b594d929"
      },
      "execution_count": null,
      "outputs": [
        {
          "output_type": "stream",
          "name": "stdout",
          "text": [
            "Original dataset shape Counter({False: 5504, True: 355})\n",
            "Resample dataset shape Counter({False: 5504, True: 5504})\n"
          ]
        }
      ]
    },
    {
      "cell_type": "markdown",
      "source": [
        "#**Training the models**"
      ],
      "metadata": {
        "id": "SRAy3bHq9-IK"
      }
    },
    {
      "cell_type": "code",
      "source": [
        "# Linear model - SGDClassifier\n",
        "sgd_params =  {\n",
        "    'loss':['log'],\n",
        "    'penalty':['elasticnet','l1','l2'],\n",
        "    'alpha':np.logspace(-4, 4, 10),\n",
        "    'l1_ratio':[0.05,0.06,0.07,0.08,0.09,0.1,0.12,0.13,0.14,0.15,0.2]}\n",
        "sgd = GridSearchCV(estimator=SGDClassifier(), param_grid=sgd_params, scoring='roc_auc')\n",
        "sgd.fit(x_train,y_train)"
      ],
      "metadata": {
        "colab": {
          "base_uri": "https://localhost:8080/"
        },
        "id": "lTAuT3a_y65U",
        "outputId": "21f39e33-899b-4c45-fc3c-ba35bf9efe2f"
      },
      "execution_count": 104,
      "outputs": [
        {
          "output_type": "execute_result",
          "data": {
            "text/plain": [
              "GridSearchCV(estimator=SGDClassifier(),\n",
              "             param_grid={'alpha': array([1.00000000e-04, 7.74263683e-04, 5.99484250e-03, 4.64158883e-02,\n",
              "       3.59381366e-01, 2.78255940e+00, 2.15443469e+01, 1.66810054e+02,\n",
              "       1.29154967e+03, 1.00000000e+04]),\n",
              "                         'l1_ratio': [0.05, 0.06, 0.07, 0.08, 0.09, 0.1, 0.12,\n",
              "                                      0.13, 0.14, 0.15, 0.2],\n",
              "                         'loss': ['log'],\n",
              "                         'penalty': ['elasticnet', 'l1', 'l2']},\n",
              "             scoring='roc_auc')"
            ]
          },
          "metadata": {},
          "execution_count": 104
        }
      ]
    },
    {
      "cell_type": "code",
      "source": [
        "# Linear model - SGDClassifier - RESULTS\n",
        "print('Grid result:')\n",
        "print(sgd.best_params_)\n",
        "print('Score for train:')\n",
        "print(sgd.best_score_)\n",
        "print('Score for test:')\n",
        "y_pred_sgd = sgd.predict(x_test)\n",
        "print(accuracy_score(y_test, y_pred_sgd))"
      ],
      "metadata": {
        "colab": {
          "base_uri": "https://localhost:8080/"
        },
        "id": "VO8NQVvrzbuF",
        "outputId": "29af5b43-0d06-49e3-a079-7ed060af0d6d"
      },
      "execution_count": 105,
      "outputs": [
        {
          "output_type": "stream",
          "name": "stdout",
          "text": [
            "Grid result:\n",
            "{'alpha': 0.005994842503189409, 'l1_ratio': 0.15, 'loss': 'log', 'penalty': 'elasticnet'}\n",
            "Score for train:\n",
            "0.7032224099348661\n",
            "Score for test:\n",
            "0.6647038448216142\n"
          ]
        }
      ]
    },
    {
      "cell_type": "code",
      "source": [
        "# Ensemble model - RandomForest\n",
        "\n",
        "rf_params = {'n_estimators': (50, 100, 200, 300), 'criterion': ('gini', 'entropy')\n",
        "            ,'max_depth': (None, 5, 10, 15, 20), 'min_samples_split': (2,5,10,15),'max_features': ('auto', 'sqrt', 'log2')}\n",
        "rf = GridSearchCV(estimator=RandomForestClassifier(), param_grid=rf_params, scoring='roc_auc')\n",
        "rf.fit(x_train, y_train)\n"
      ],
      "metadata": {
        "colab": {
          "base_uri": "https://localhost:8080/"
        },
        "id": "x5xUEscagXTG",
        "outputId": "d3d32dbc-8408-4241-82d4-82b0e1103eea"
      },
      "execution_count": null,
      "outputs": [
        {
          "output_type": "execute_result",
          "data": {
            "text/plain": [
              "GridSearchCV(estimator=RandomForestClassifier(),\n",
              "             param_grid={'criterion': ('gini', 'entropy'),\n",
              "                         'max_depth': (None, 5, 10, 15, 20),\n",
              "                         'max_features': ('auto', 'sqrt', 'log2'),\n",
              "                         'min_samples_split': (2, 5, 10, 15),\n",
              "                         'n_estimators': (50, 100, 200, 300)},\n",
              "             scoring='roc_auc')"
            ]
          },
          "metadata": {},
          "execution_count": 75
        }
      ]
    },
    {
      "cell_type": "code",
      "source": [
        "# Ensemble model - RandomForest - RESULTS\n",
        "print('Grid result:')\n",
        "print(rf.best_params_)\n",
        "print('Score for train:')\n",
        "print(rf.best_score_)\n",
        "print('Score for test:')\n",
        "y_pred_rf = rf.predict(x_test)\n",
        "print(accuracy_score(y_test, y_pred_rf))"
      ],
      "metadata": {
        "colab": {
          "base_uri": "https://localhost:8080/"
        },
        "id": "z-ouZvjgfDag",
        "outputId": "d4007892-8c36-4eff-828a-1e1855f592bf"
      },
      "execution_count": 89,
      "outputs": [
        {
          "output_type": "stream",
          "name": "stdout",
          "text": [
            "Grid result:\n",
            "{'criterion': 'gini', 'max_depth': None, 'max_features': 'log2', 'min_samples_split': 2, 'n_estimators': 300}\n",
            "Score for train:\n",
            "0.9982005017769705\n",
            "Score for test:\n",
            "0.9338413578108763\n"
          ]
        }
      ]
    },
    {
      "cell_type": "code",
      "source": [
        "# DL model - Multilayered Perceptron\n",
        "mlp_params = {'activation': ('identity', 'logistic', 'tanh', 'relu'), 'solver': ('lbfgs', 'sgd', 'adam'),\n",
        "              'learning_rate': ('constant', 'invscaling', 'adaptive')}\n",
        "mlp = GridSearchCV(estimator=MLPClassifier(), param_grid=mlp_params, scoring='roc_auc')\n",
        "mlp.fit(x_train, y_train)"
      ],
      "metadata": {
        "id": "ReAp3mjzhFoz"
      },
      "execution_count": null,
      "outputs": []
    },
    {
      "cell_type": "code",
      "source": [
        "# DL model - Multilayered Perceptron - RESULTS\n",
        "print('Grid result:')\n",
        "print(mlp.best_params_)\n",
        "print('Score for train:')\n",
        "print(mlp.best_score_)\n",
        "print('Score for test:')\n",
        "y_pred_mlp = mlp.predict(x_test)\n",
        "print(accuracy_score(y_test, y_pred_mlp))"
      ],
      "metadata": {
        "colab": {
          "base_uri": "https://localhost:8080/"
        },
        "id": "gnWv9pqKrL2u",
        "outputId": "5b38dd66-4405-4f87-dd72-8c2d4f7feac6"
      },
      "execution_count": 93,
      "outputs": [
        {
          "output_type": "stream",
          "name": "stdout",
          "text": [
            "Grid result:\n",
            "{'activation': 'relu', 'learning_rate': 'adaptive', 'solver': 'adam'}\n",
            "Score for train:\n",
            "0.9901044085773055\n",
            "Score for test:\n",
            "0.8811915483200554\n"
          ]
        }
      ]
    },
    {
      "cell_type": "markdown",
      "source": [
        "#**Comparison and Evaluation**"
      ],
      "metadata": {
        "id": "V1RnJDjCsA67"
      }
    },
    {
      "cell_type": "code",
      "source": [
        "def evaluate(grid,x_test,y_test):\n",
        "   prediction = grid.predict(x_test)\n",
        "   accuracy = accuracy_score(y_test,prediction)\n",
        "   y = grid.predict_proba(x_test,)[:,1]\n",
        "   false_positive_ratio , true_positive_ratio , treshold = metrics.roc_curve(y_test,y)\n",
        "   auc = metrics.auc(false_positive_ratio, true_positive_ratio)\n",
        "   f1 = metrics.f1_score(y_test, prediction)\n",
        "   print(f'Accuracy(test) : {accuracy}\\nAUC: {auc}\\nF1 Score: {f1}\\n')\n",
        "   print(metrics.classification_report(y_test, prediction))\n",
        "\n",
        "def plot_data(clf, x_test, y_test):\n",
        "  pred = clf.predict(x_test)\n",
        "  y_score = clf.predict_proba(x_test)[:, 1]\n",
        "  fpr, tpr, threshold = metrics.roc_curve(y_test, y_score)\n",
        "  auc= metrics.auc(fpr, tpr)\n",
        "  return fpr, tpr, auc"
      ],
      "metadata": {
        "id": "6Xl3HOQ_hXAI"
      },
      "execution_count": 115,
      "outputs": []
    },
    {
      "cell_type": "code",
      "source": [
        "print('Linear Classifier - SGDC - Evaluation')\n",
        "evaluate(sgd, x_test, y_test)\n",
        "print('-'*55)\n",
        "print('Ensemble Classifier - RF - Evaluation')\n",
        "evaluate(rf, x_test, y_test)\n",
        "print('-'*55)\n",
        "print('DL Classifier - MLP - Evaluation')\n",
        "evaluate(mlp, x_test, y_test)"
      ],
      "metadata": {
        "colab": {
          "base_uri": "https://localhost:8080/"
        },
        "id": "saWRE32I094E",
        "outputId": "1e8906fb-5746-4558-e4b5-9349b71b1e82"
      },
      "execution_count": 116,
      "outputs": [
        {
          "output_type": "stream",
          "name": "stdout",
          "text": [
            "Linear Classifier - SGDC - Evaluation\n",
            "Accuracy(test) : 0.6647038448216142\n",
            "AUC: 0.7073179558944168\n",
            "F1 Score: 0.2\n",
            "\n",
            "              precision    recall  f1-score   support\n",
            "\n",
            "       False       0.97      0.67      0.79      2703\n",
            "        True       0.12      0.66      0.20       184\n",
            "\n",
            "    accuracy                           0.66      2887\n",
            "   macro avg       0.54      0.66      0.49      2887\n",
            "weighted avg       0.91      0.66      0.75      2887\n",
            "\n",
            "-------------------------------------------------------\n",
            "Ensemble Classifier - RF - Evaluation\n",
            "Accuracy(test) : 0.9338413578108763\n",
            "AUC: 0.6905129566182502\n",
            "F1 Score: 0.06829268292682927\n",
            "\n",
            "              precision    recall  f1-score   support\n",
            "\n",
            "       False       0.94      0.99      0.97      2703\n",
            "        True       0.33      0.04      0.07       184\n",
            "\n",
            "    accuracy                           0.93      2887\n",
            "   macro avg       0.64      0.52      0.52      2887\n",
            "weighted avg       0.90      0.93      0.91      2887\n",
            "\n",
            "-------------------------------------------------------\n",
            "DL Classifier - MLP - Evaluation\n",
            "Accuracy(test) : 0.8811915483200554\n",
            "AUC: 0.5668399845582203\n",
            "F1 Score: 0.08533333333333333\n",
            "\n",
            "              precision    recall  f1-score   support\n",
            "\n",
            "       False       0.94      0.94      0.94      2703\n",
            "        True       0.08      0.09      0.09       184\n",
            "\n",
            "    accuracy                           0.88      2887\n",
            "   macro avg       0.51      0.51      0.51      2887\n",
            "weighted avg       0.88      0.88      0.88      2887\n",
            "\n"
          ]
        }
      ]
    },
    {
      "cell_type": "code",
      "source": [
        "# ROC PLOT\n",
        "# data\n",
        "fpr_sgd, tpr_sgd, auc_sgd = plot_data(sgd, x_test, y_test)\n",
        "fpr_rf, tpr_rf, auc_rf = plot_data(rf, x_test, y_test)\n",
        "fpr_mlp, tpr_mlp, auc_mlp = plot_data(mlp, x_test, y_test)\n",
        "\n",
        "# plot\n",
        "plt.subplots(1, figsize=(7, 7))\n",
        "plt.title('ROC curve - comparison', fontsize = 16)\n",
        "plt.plot(fpr_sgd, tpr_sgd, 'chocolate', label='SGDClassifier AUC = %0.2f' % auc_sgd)\n",
        "plt.plot(fpr_rf, tpr_rf, 'midnightblue', label='Random Forest AUC = %0.2f' % auc_rf)\n",
        "plt.plot(fpr_mlp, tpr_mlp, 'forestgreen', label='Neural Net AUC = %0.2f' % auc_mlp)\n",
        "plt.xlabel('FPR', fontsize = 14)\n",
        "plt.ylabel('TPR', fontsize = 14)\n",
        "plt.legend(loc='lower right')\n",
        "plt.plot([0, 1], ls=\"--\")\n",
        "plt.plot([0, 0], [1, 0], c='dimgray'), plt.plot([1, 1], c='dimgray')\n",
        "plt.show()"
      ],
      "metadata": {
        "colab": {
          "base_uri": "https://localhost:8080/",
          "height": 464
        },
        "id": "2uhROcFA3HrG",
        "outputId": "8290e8b5-a077-4b82-f846-555b5fb93a7c"
      },
      "execution_count": 135,
      "outputs": [
        {
          "output_type": "display_data",
          "data": {
            "image/png": "[encoded data removed]",
            "text/plain": [
              "<Figure size 504x504 with 1 Axes>"
            ]
          },
          "metadata": {
            "needs_background": "light"
          }
        }
      ]
    },
    {
      "cell_type": "markdown",
      "source": [
        "#**Open Question's Answers**\n",
        "1. For each model, does the model overfits?\n",
        "**Answer**: \\\n",
        "as you csan see, we printed for each model its accuracy over both training and testing sets. As we learned in class we treat significant difference between accuracy scores over train and test data as overfit. \\\n",
        "SDG - very small difference (4%), no overfit. \\\n",
        "RF and MLP - here the difference is more significant (7% and 11%), plus both model's accuracy over train data is almost the global maximum. These sympthoms may suggest overfit. \n",
        "But after taking in consideration both the good results over the training set and the fact that we used cross validation we think all in all theres no overfit.\n",
        "\n",
        "2. In the DL model, what's the effect of batch size? In general, and do you see this effect in the current task?\n",
        "**Answer**: \\\n",
        "The effect of batch size in DL models is the updates of the gradient.\n",
        "Large batch size means the model makes very large gradient updates and very small gradient updates. The size of the update depends heavily on which particular samples are drawn from the dataset. On the other hand using small batch size means the model makes updates that are all about the same size.\\\n",
        "We dont see much of this effect in our task, we used gridsearch for optimizaion which saved us the trouble of diving into manual testing.\n"
      ],
      "metadata": {
        "id": "hxEN-_DLIWhN"
      }
    },
    {
      "cell_type": "markdown",
      "source": [
        "#**Summerize and Explanations**\n",
        "We chose to use SDG, RF and MLP as our classifiers. \\\n",
        "SDG - we learned about it in class and havent got the chance to use this specific implementation so we wanted to try it. \\\n",
        "RF - we used it in one of the labs and it showed impressive results, so we chose to use it here.\n",
        "MLP - we werent present in the lab that talked about it, wanted to test it according to the theoretical material at the lectures.\n",
        "\n",
        "Configurations and other decisions: \\\n",
        "* Cleaning and preprocess - we transformed categorail data into dummy variables and dropped one column that had null values.\n",
        "* Scaling - we used standart scaler in order to normalize the data.\n",
        "* SMOTE - we noticed the data is very unbalanced as we displayed to you earlier. After som time on google we decided to use smote to generate syntetic examples in order to balance the training set. \n",
        "* Evaluation - we calculated some Accuracy, AUC and F1 scores. plus we used the report function inorder to display som raw measures of the performence. \\\n",
        "For a visual comparisson we chose to display the ROC curves and the AUC value for each classifier. we think that this visualization display in a good way a comparisson between the classifiers, as we also saw in the practice sessions.\n"
      ],
      "metadata": {
        "id": "Lf2nV2pHNhgC"
      }
    }
  ]
}