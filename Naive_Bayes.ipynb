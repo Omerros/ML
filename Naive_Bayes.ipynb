{
  "nbformat": 4,
  "nbformat_minor": 0,
  "metadata": {
    "colab": {
      "name": "MLHW1.ipynb",
      "provenance": [],
      "collapsed_sections": []
    },
    "kernelspec": {
      "display_name": "Python 3",
      "language": "python",
      "name": "python3"
    },
    "language_info": {
      "codemirror_mode": {
        "name": "ipython",
        "version": 3
      },
      "file_extension": ".py",
      "mimetype": "text/x-python",
      "name": "python",
      "nbconvert_exporter": "python",
      "pygments_lexer": "ipython3",
      "version": "3.7.6"
    }
  },
  "cells": [
    {
      "cell_type": "markdown",
      "metadata": {
        "id": "Uq_3t_tluNmU"
      },
      "source": [
        "# Naive Bayes"
      ]
    },
    {
      "cell_type": "markdown",
      "metadata": {
        "id": "Rum6hqi0I2V1"
      },
      "source": [
        "## Write your id numbers and names here\n",
        "\n",
        "\n",
        "1.   Omer Rosenberg 315328898\n",
        "2.   Chen Harel 205566292\n"
      ]
    },
    {
      "cell_type": "markdown",
      "metadata": {
        "id": "TQVMUZkQHlm2"
      },
      "source": [
        "## 1. Classifying Digits\n",
        "In this part we will test digits classification on the MNIST dataset, using Bernoulli Naive Bayes (a generative model), in contrast to the Multivariate Logistic Regression (a discriminative model) we used before.\n",
        "\n",
        "The MNIST dataset contains 28x28 grayscale images of handwritten digits between 0 and 9 (10 classes). For mathmatical analysis clarity, and for matching expected API, each image faltten to create a 1D array with 784 elements."
      ]
    },
    {
      "cell_type": "markdown",
      "metadata": {
        "id": "Cjwjk6pzLE-y"
      },
      "source": [
        "### Loading the MNIST dataset\n",
        "Load the MNIST data set. The digits dataset is one of datasets scikit-learn comes with that do not require the downloading of any file from some external website. Use \n",
        "```\n",
        "mnist = sklearn.datasets.fetch_mldata('MNIST original')\n",
        "```\n",
        "to fetch the original data. You may set the `data_home` to where you wish to download your data for caching. Each image is already transformed into a 1D integer array $x\\in [0,255]^{784}$, and the corresponding label is an integer $y\\in [0,9]$.\n",
        "\n",
        "Plot a single sample of each digit as the original image, so you get a feeling how the data looks like.\n",
        "\n",
        "Finally, divide your data into train and test sets, using 1/7 of the data for testing.\n",
        "\n",
        "---\n",
        "**Note 1:** Using `digits = sklearn.datasets.load_digits()` will only fetch a very small sample of the original set, with images resized to 8x8. This preprocessing of the data reduces dimensionality and gives invariance to small distortions - however, we will use the original data in this exercise. Feel free to test the proformance of the algorithms below on the preprocessed data as well.\n",
        "\n",
        "**Note 2:**\n",
        "Since ML-Data is deprecated, you may wish to use something like this:\n",
        ">```\n",
        "from keras.datasets import mnist\n",
        "(x_train, y_train), (x_test, y_test) = mnist.load_data()\n",
        "x_train = x_train.reshape(x_train.shape[0], 784)\n",
        "x_test = x_test.reshape(x_test.shape[0], 784)\n",
        "```"
      ]
    },
    {
      "cell_type": "code",
      "metadata": {
        "id": "05Om0QLxBvvT",
        "colab": {
          "base_uri": "https://localhost:8080/",
          "height": 181
        },
        "outputId": "fc630859-0b31-4544-dbc2-6b877488d9d9"
      },
      "source": [
        "import sklearn\n",
        "mnist = sklearn.datasets.fetch_mldata('MNIST original')"
      ],
      "execution_count": 221,
      "outputs": [
        {
          "output_type": "error",
          "ename": "AttributeError",
          "evalue": "ignored",
          "traceback": [
            "\u001b[0;31m---------------------------------------------------------------------------\u001b[0m",
            "\u001b[0;31mAttributeError\u001b[0m                            Traceback (most recent call last)",
            "\u001b[0;32m<ipython-input-221-24001302aac1>\u001b[0m in \u001b[0;36m<module>\u001b[0;34m()\u001b[0m\n\u001b[1;32m      1\u001b[0m \u001b[0;32mimport\u001b[0m \u001b[0msklearn\u001b[0m\u001b[0;34m\u001b[0m\u001b[0;34m\u001b[0m\u001b[0m\n\u001b[0;32m----> 2\u001b[0;31m \u001b[0mmnist\u001b[0m \u001b[0;34m=\u001b[0m \u001b[0msklearn\u001b[0m\u001b[0;34m.\u001b[0m\u001b[0mdatasets\u001b[0m\u001b[0;34m.\u001b[0m\u001b[0mfetch_mldata\u001b[0m\u001b[0;34m(\u001b[0m\u001b[0;34m'MNIST original'\u001b[0m\u001b[0;34m)\u001b[0m\u001b[0;34m\u001b[0m\u001b[0;34m\u001b[0m\u001b[0m\n\u001b[0m",
            "\u001b[0;31mAttributeError\u001b[0m: module 'sklearn.datasets' has no attribute 'fetch_mldata'"
          ]
        }
      ]
    },
    {
      "cell_type": "code",
      "metadata": {
        "id": "Rr45HBN_DBZd"
      },
      "source": [
        "from keras.datasets import mnist\n",
        "(x_train, y_train), (x_test, y_test) = mnist.load_data()\n",
        "x_train = x_train.reshape(x_train.shape[0], 784)\n",
        "x_test = x_test.reshape(x_test.shape[0], 784)"
      ],
      "execution_count": 222,
      "outputs": []
    },
    {
      "cell_type": "code",
      "metadata": {
        "id": "4vjD4DxSElhg"
      },
      "source": [
        "import matplotlib as plt "
      ],
      "execution_count": 223,
      "outputs": []
    },
    {
      "cell_type": "code",
      "metadata": {
        "id": "35WtvU8WDbpL"
      },
      "source": [
        "sample = x_test[0].reshape(28,28)"
      ],
      "execution_count": 224,
      "outputs": []
    },
    {
      "cell_type": "code",
      "metadata": {
        "id": "KLygiKU5ErKC",
        "colab": {
          "base_uri": "https://localhost:8080/",
          "height": 282
        },
        "outputId": "3487995f-4279-455a-f992-5245d3b72655"
      },
      "source": [
        "plt.pyplot.imshow(sample)"
      ],
      "execution_count": 225,
      "outputs": [
        {
          "output_type": "execute_result",
          "data": {
            "text/plain": [
              "<matplotlib.image.AxesImage at 0x7f4c2b90a750>"
            ]
          },
          "metadata": {},
          "execution_count": 225
        },
        {
          "output_type": "display_data",
          "data": {
            "image/png": "[encoded data removed]",
            "text/plain": [
              "<Figure size 432x288 with 1 Axes>"
            ]
          },
          "metadata": {
            "needs_background": "light"
          }
        }
      ]
    },
    {
      "cell_type": "code",
      "metadata": {
        "id": "-oEtjjntE62S",
        "colab": {
          "base_uri": "https://localhost:8080/"
        },
        "outputId": "3badd784-3cfa-433c-c861-37d8814afe9f"
      },
      "source": [
        "y_train"
      ],
      "execution_count": 226,
      "outputs": [
        {
          "output_type": "execute_result",
          "data": {
            "text/plain": [
              "array([5, 0, 4, ..., 5, 6, 8], dtype=uint8)"
            ]
          },
          "metadata": {},
          "execution_count": 226
        }
      ]
    },
    {
      "cell_type": "markdown",
      "metadata": {
        "id": "WTGjjSKaFfE6"
      },
      "source": [
        "### Bernoulli Naive Bayes\n",
        "If we know how the digits are generated, then we know how to classify them (simply choose the digit class which will maximize the posterior probability) --- but which model should we use for describing the digits generation?\n",
        "\n",
        "In this part we will try a very simplified model of digits creation (which is obviously not the same as the \"real\" model), using a Naive Bayes over an underlying Bernoulli distribution --- that is, we will assume that given a digit class, the pixels of the images are the result of independent coin flips, each with its own \"head\" probability.\n",
        "\n",
        "Note that since we assume each pixl is either 0 (black) or 1 (white), we will need to adjust (preprocess) our data accrodingly (see below).\n",
        "\n",
        "So, the model is stated as follows:\n",
        "$$\n",
        "\\begin{align}\n",
        "\\text{Domain} && x \\in \\{0,1\\}^{784} \\\\\n",
        "\\text{Prior} && \\pi_j = \\Pr(y=j) \\\\\n",
        "\\text{Likelihood} && P_j(x) = \\Pr(x | y=j) \\\\\n",
        "\\end{align}\n",
        "$$\n",
        "\n",
        "Where for each $i\\in 0\\ldots 784$ it holds that\n",
        "$$\n",
        "P_{ji}(x_i) = \\Pr(x_i | y=j) =\n",
        "\\begin{cases}\n",
        "p_{ji} & \\text{if } x_i=1 \\\\\n",
        "1-p_{ji} & \\text{if } x_i=0 \\\\\n",
        "\\end{cases}\n",
        "$$\n"
      ]
    },
    {
      "cell_type": "markdown",
      "metadata": {
        "id": "WNjhD3IpL5bC"
      },
      "source": [
        "#### Question 1\n",
        "Write the classification rule based on this Naive Bayes model. \n",
        "How would you esitmate each of the parameters of the model based on the trainning data? \n",
        "Describe in text (preferably math notationns) the classification rule, and explain.\n",
        "\n",
        "**Bonus:** Think of edge cases which may effect your estimator in an undesired way."
      ]
    },
    {
      "cell_type": "markdown",
      "metadata": {
        "id": "0pN1prGcMqwZ"
      },
      "source": [
        "#### Answer 1\n",
        "\n",
        "estimation of $P(class = j)$(Prior): \\\\\n",
        "$P(class = j) = \\frac{\\Sigma class = j}{size\\  of\\  training}$ \\\\\n",
        "estimation of $P_{ji}(x_i=1|class=j)$(Likelihood): \\\\\n",
        "for each class $j\\in [0-9]$ and index $i\\in [0-784]$ we will estimate the probability $P_{ji}(x_i=1|class=j)$ as the number of times $x_{i} = 1$ and the $class = j$ divided by the total samples of $class = j$.\n",
        "$$\n",
        "P_{ji}(x_i=1|class=j) = \\frac {\\Sigma (x_i=1 \\cap class = j)}{\\Sigma (class=j)}\\\\\n",
        "P_{ji}(x_i=0|class = j)=1-P_{ji}(x_i=1|class = j)\n",
        "$$\n",
        "\n",
        "So for $x'=[x_0,x_1,...,x_{784}]$ and a class $j$#:\\\n",
        "$ P(j|x')=  Π P_{ji}(x'_{i}|j)P(class = j) $\\\n",
        "\\\n",
        " our map rule is:\\\n",
        "$ Class(x') = argmax_j(( Π_{i=0}^n P_{ji}(x'_{i}|j)P(class = j)) = argmax_j(\\Sigma_{i=0}^n log(P_{ji}(x'_{i}|j)+ log(P(class = j))) $ \\\n",
        "\\\n",
        "**Bonus** (Edge cases) - cases when $P_{ji}(x'_{i}|j) = 0$, it will force the estimator to give class j probabilty of 0 and chose another class.\\\n",
        "it can be fixed with smoothing as we saw in the lecture."
      ]
    },
    {
      "cell_type": "markdown",
      "metadata": {
        "id": "nOnkgDIXTMCQ"
      },
      "source": [
        "#### Question 2\n",
        "Run a Naive Bayes classifier on the training data and apply predictions on the test data. Use the [sklearn.naive_bayes.BernoulliNB](http://scikit-learn.org/stable/modules/generated/sklearn.naive_bayes.BernoulliNB.html) implementation (see the [source code for sklearn.naive_bayes](https://github.com/scikit-learn/scikit-learn/blob/master/sklearn/naive_bayes.py) for details).\n",
        "\n",
        "Remember we need to preprocess the data in this case such that each pixel would become either black (0) or white (1). For this, use the `binarize` parameter of the implementation. Set this value to $0$ (this is the default), which in this case would mean every pixel with non-zero value will be set to 1.\n",
        "\n",
        "1. Plot the mean image of each class (estimated $\\hat{p}_{ji}$) and generate one sample of each class (remember, you can do this since this is a generative model). You will need to access the `feature_log_prob_` attribute of the trained model.\n",
        "\n",
        "2. Plot the confusion matrix of your classifier, as claculated on the test data (it is recommended to use [sklearn.metrics.confusion_matrix](http://scikit-learn.org/stable/modules/generated/sklearn.metrics.confusion_matrix.html)). Calculate the total accuracy (fraction of correctly classified images), and summarize the results in your own words.\n",
        "\n",
        "3. Think of a way you can find the optimal threshold of the binarization part. **There is no need to actually perform this task --- just describe what you would have done.**\n"
      ]
    },
    {
      "cell_type": "markdown",
      "metadata": {
        "id": "ZKdsdegDWaO_"
      },
      "source": [
        "#### Answer 2\n",
        "Put you answer here..."
      ]
    },
    {
      "cell_type": "code",
      "metadata": {
        "id": "XalqjRWXWS-Y",
        "colab": {
          "base_uri": "https://localhost:8080/",
          "height": 189
        },
        "outputId": "f16c78c6-01cf-4c97-9d48-8d837cd7ca13"
      },
      "source": [
        "##### 2.1 - estimated Pij\n",
        "from sklearn.naive_bayes import BernoulliNB\n",
        "import matplotlib as plt \n",
        "model = BernoulliNB()\n",
        "model.fit(x_train, y_train)\n",
        "log_prob = model.feature_log_prob_\n",
        "fig, axs = plt.pyplot.subplots(1,10, figsize=(30, 4))\n",
        "for i in range(0,10):\n",
        "  axs[i].imshow(log_prob[i].reshape(28,28))\n",
        "  axs[i].set_title(str(i))\n",
        "  axs[i].set_axis_off()\n"
      ],
      "execution_count": 227,
      "outputs": [
        {
          "output_type": "display_data",
          "data": {
            "image/png": "[encoded data removed]",
            "text/plain": [
              "<Figure size 2160x288 with 10 Axes>"
            ]
          },
          "metadata": {
            "needs_background": "light"
          }
        }
      ]
    },
    {
      "cell_type": "code",
      "metadata": {
        "colab": {
          "base_uri": "https://localhost:8080/",
          "height": 189
        },
        "id": "2Ywj1kOvgkN2",
        "outputId": "0a357046-940c-425e-efac-9e7f29f53401"
      },
      "source": [
        "##### 2.1 - generated samples of each class\n",
        "import numpy as np\n",
        "probs = np.exp(log_prob)\n",
        "samples = (np.random.rand(*probs.shape) < probs).astype(int)\n",
        "fig, axs = plt.pyplot.subplots(1,10, figsize=(30, 4))\n",
        "for i in range(0,10):\n",
        "  axs[i].imshow(samples[i].reshape(28,28))\n",
        "  axs[i].set_title(str(i))\n",
        "  axs[i].set_axis_off()\n"
      ],
      "execution_count": 228,
      "outputs": [
        {
          "output_type": "display_data",
          "data": {
            "image/png": "[encoded data removed]",
            "text/plain": [
              "<Figure size 2160x288 with 10 Axes>"
            ]
          },
          "metadata": {
            "needs_background": "light"
          }
        }
      ]
    },
    {
      "cell_type": "code",
      "metadata": {
        "colab": {
          "base_uri": "https://localhost:8080/"
        },
        "id": "bXxWU6NVroBT",
        "outputId": "f9075447-07b6-4976-86e9-9a602a4d07e2"
      },
      "source": [
        "##### 2.2 Confusion matrix and accuracy\n",
        "from sklearn.metrics import confusion_matrix\n",
        "y_pred = model.predict(x_test)\n",
        "conf_matrix = confusion_matrix(y_test, y_pred, labels= range(0,10))\n",
        "good_predictions = 0\n",
        "for i in range(0, 10):\n",
        "  good_predictions += conf_matrix[i][i]\n",
        "total_accurecy = good_predictions / len(x_test)\n",
        "print(\"The total accurecy of the model is: \" + str(total_accurecy))\n",
        "conf_matrix"
      ],
      "execution_count": 229,
      "outputs": [
        {
          "output_type": "stream",
          "name": "stdout",
          "text": [
            "The total accurecy of the model is: 0.8413\n"
          ]
        },
        {
          "output_type": "execute_result",
          "data": {
            "text/plain": [
              "array([[ 887,    0,    4,    7,    2,   41,   16,    1,   22,    0],\n",
              "       [   0, 1085,   10,    5,    0,    9,    6,    0,   19,    1],\n",
              "       [  19,    8,  852,   29,   17,    4,   32,   14,   55,    2],\n",
              "       [   5,   15,   34,  844,    0,   13,    9,   15,   49,   26],\n",
              "       [   2,    6,    4,    0,  795,    4,   21,    1,   23,  126],\n",
              "       [  23,   12,    7,  129,   30,  627,   16,    8,   21,   19],\n",
              "       [  18,   18,   15,    2,   13,   35,  851,    0,    6,    0],\n",
              "       [   1,   24,   14,    4,   15,    0,    0,  871,   27,   72],\n",
              "       [  16,   23,   13,   76,   17,   22,    7,    6,  758,   36],\n",
              "       [   9,   13,    5,    9,   74,    8,    0,   24,   24,  843]])"
            ]
          },
          "metadata": {},
          "execution_count": 229
        }
      ]
    },
    {
      "cell_type": "markdown",
      "metadata": {
        "id": "GWLrvBuyw_V9"
      },
      "source": [
        "\\##### **2.2 - Results Summary** \\\n",
        "after plotting and evaluating the model's accurecy we can see that he classifies\\\n",
        "the data quite good: \\\n",
        "Firstly, we can see from the plots of the estimated $\\hat{p}$ the classes are quite understandble. \\\n",
        "Secondly, the accurecy of the model is high, it classifies right in 84.13% of the cases. \\\n",
        "this indicates the model isnt overfitted.\n",
        "\n",
        "\n",
        "\\##### **2.3 - Optimal Binarization Factor** \n",
        "\\\n",
        "The binarize is the threshold that dictates which values mapped to 1 and which to 0. \\\n",
        "As higher the binarize factor we give to the model more values will be mapped to 1. \\\n",
        "in order to find the optimal threshold we would iterate over the 255 possible binarization factors and chose the one that provides the best results. \\\n",
        "in order to improve it we would divide our data to k pieces and do this procces with k cross validation(train on k-1 pieces and test on one pieace k times) and get for each fold its local optimal binarization factor.\\\n",
        "then the global optimal binarization factor will be the mean of the k local optimal binarization factors.\n"
      ]
    },
    {
      "cell_type": "markdown",
      "metadata": {
        "id": "lKSgnectrTJ1"
      },
      "source": [
        "## 2. Classifing Text Documents using Multinomial Naive Bayes\n",
        "In this exercise you will classify the \"20 newsgroups\" data set using your own naive bayes classifier and compare to the scikit learn built in version.\n",
        "\n",
        "The 20 newsgroups dataset comprises around 18000 newsgroups posts on 20 topics split in two subsets: one for training (or development) and the other one for testing (or for performance evaluation). The split between the train and test set is based upon messages posted before and after a specific date.\n",
        "\n",
        "### You task\n",
        "Implement the barebone class provided: `NaiveBayes(BaseEstimator, ClassifierMixin)` and implement its `fit`, `predict` and `predict_proba` methods.\n",
        "\n",
        "Then follow next anlysis guidlinnes using the implemented class for train and test classifier:\n",
        "* Load the **train** data using `from sklearn.datasets import fetch_20newsgroups`. remove headers, footers and quotes (see documentation)\n",
        "* Use `sklearn.feature_extraction.text import CountVectorizer` to count words (stop_words='english')\n",
        "* use `sklearn.pipeline.make_pipeline` to chain the vectroizer and model.\n",
        "* note: limit the vocuabolary size if you suffer memory issues\n",
        "* compare the accuracy over the **test** data. You can use `accuracy_score, classification_report`\n",
        "* compare to the built in `sklearn.naive_bayes.MultinomialNB`\n",
        "* compare to `TfidfVectorizer` preprocessing (you can use the built in model for doing the analysis)\n",
        "* plot the learning curve - is the model in the bias or variance regime (you can use the built in model for doing the analysis)\n",
        "* optimize performance in respect to vectorizer hyper parameters (e.g. max_features, max_df etc.).\n"
      ]
    },
    {
      "cell_type": "code",
      "metadata": {
        "id": "bN9SrhsuJZA1"
      },
      "source": [
        "from sklearn.datasets import fetch_20newsgroups\n",
        "from sklearn.feature_extraction.text import CountVectorizer, TfidfVectorizer\n",
        "from sklearn.pipeline import make_pipeline\n",
        "from sklearn.naive_bayes import MultinomialNB\n",
        "from sklearn.pipeline import Pipeline\n",
        "import numpy as np\n",
        "from sklearn.base import BaseEstimator, ClassifierMixin\n",
        "from scipy.sparse import csr_matrix as csr\n",
        "from sklearn.metrics import accuracy_score, classification_report\n",
        "import matplotlib.pyplot as plt\n",
        "from mlxtend.plotting import plot_learning_curves\n",
        "from sklearn.model_selection import learning_curve"
      ],
      "execution_count": 230,
      "outputs": []
    },
    {
      "cell_type": "code",
      "metadata": {
        "id": "l5Ckn5vJEE6r"
      },
      "source": [
        "class NaiveBayes(BaseEstimator, ClassifierMixin):\n",
        "\n",
        "#BaseEstimator and ClassifierMixin are imported from sklearn.base\n",
        "  def __init__(self):\n",
        "    self.prior = np.ndarray\n",
        "    self.likelihood = np.ndarray\n",
        "    self.sample_label_prob = np.ndarray\n",
        "\n",
        "  def fit(self, x, y):\n",
        "    labels = np.unique(y)\n",
        "    #Lengts \n",
        "    n_docs = x.shape[0]\n",
        "    n_terms = x.shape[1]\n",
        "    n_labels = labels.shape[0]\n",
        "    \n",
        "    #Prior\n",
        "    prior = np.zeros(shape = (1,n_labels))\n",
        "    for label in y:\n",
        "      prior[0][label] += 1\n",
        "    prior = prior/n_docs\n",
        "    self.prior = prior\n",
        "\n",
        "    #Likelihood\n",
        "    #likelihood is term frequency here, we manipulated the calculation in order to save likelihood as a sparse matrix, the probability calculation is in the predict log proba\n",
        "    nz_row, nz_cols = x.nonzero()\n",
        "    x_data = x.data\n",
        "    n_values = x_data.shape[0]\n",
        "    row = []\n",
        "    col = []\n",
        "    l_data = []\n",
        "    for i in range(n_values):\n",
        "      row.append(y[nz_row[i]])\n",
        "      col.append(nz_cols[i])\n",
        "      l_data.append(x_data[i])\n",
        "    likelihood = csr_matrix((l_data, (row, col)), shape = (n_labels, n_terms))\n",
        "    self.likelihood = likelihood\n",
        "  \n",
        "  def predict_log_proba(self, x):\n",
        "    n_samples = x.shape[0]\n",
        "    #number of words in a class - for the deminator\n",
        "    n_terms_class = csr.sum(self.likelihood, axis = 1)\n",
        "    #vocabulary size for smoothing \n",
        "    vocabulary_size = sum(self.likelihood.data)\n",
        "    #number of indexes with values for each sample - for the deminator\n",
        "    unique_terms_sample = np.zeros(shape = (1,n_samples))\n",
        "    for i in range(n_samples):\n",
        "      unique_terms_sample[0][i] = x.getrow(i).count_nonzero()\n",
        "    #sample_label_prob is the matrix that will hold in the end for each sample the probability for each class\n",
        "    #smoothing: +1 in the numerator, +|V| +words per class  for the deminator\n",
        "    sample_label_prob = x.dot(np.log1p(csr.transpose(self.likelihood))) + np.log(self.prior)\n",
        "    log_deminator = np.log(n_terms_class + vocabulary_size).dot(unique_terms_sample)\n",
        "    sample_label_prob = sample_label_prob - np.transpose(log_deminator)\n",
        "    self.sample_label_prob = sample_label_prob\n",
        "\n",
        "  def predict(self, x):\n",
        "    #argmax for the most likely class\n",
        "    self.predict_log_proba(x)\n",
        "    return np.argmax(self.sample_label_prob, axis = 1)\n",
        "    "
      ],
      "execution_count": 231,
      "outputs": []
    },
    {
      "cell_type": "code",
      "metadata": {
        "id": "Drr6Q2HJJmTS"
      },
      "source": [
        "# Loading the data and defining the vectorizer\n",
        "training_dict = fetch_20newsgroups(subset = 'train', remove = ('headers', 'footers', 'quotes'))\n",
        "testing_dict = fetch_20newsgroups(subset = 'test', remove = ('headers', 'footers', 'quotes'))\n",
        "training_data = training_dict['data']\n",
        "testing_data = testing_dict['data']\n",
        "training_labels = training_dict['target']\n",
        "testing_labels = testing_dict['target']\n",
        "vectorizer = CountVectorizer(stop_words = 'english')"
      ],
      "execution_count": 232,
      "outputs": []
    },
    {
      "cell_type": "code",
      "metadata": {
        "id": "60fwwV909D7w",
        "colab": {
          "base_uri": "https://localhost:8080/"
        },
        "outputId": "832d8d16-0e24-4f0f-ecb2-0830daf73e92"
      },
      "source": [
        "# Our Model\n",
        "our_model = NaiveBayes()\n",
        "pipe_ours = Pipeline([('vec', vectorizer),\n",
        "                 ('nb', our_model)])\n",
        "pipe_ours.fit(training_data, training_labels)\n",
        "predictions_ours = pipe_ours.predict(testing_data)\n",
        "accuracy_score(testing_labels, predictions_ours)\n"
      ],
      "execution_count": 233,
      "outputs": [
        {
          "output_type": "execute_result",
          "data": {
            "text/plain": [
              "0.5704992033988316"
            ]
          },
          "metadata": {},
          "execution_count": 233
        }
      ]
    },
    {
      "cell_type": "code",
      "metadata": {
        "colab": {
          "base_uri": "https://localhost:8080/"
        },
        "id": "0wv3GcHuL88l",
        "outputId": "4e3f9d8b-e1d0-488d-da9a-4bde0d98870e"
      },
      "source": [
        "# Our Classification report\n",
        "print(classification_report(testing_labels, predictions_ours))"
      ],
      "execution_count": 234,
      "outputs": [
        {
          "output_type": "stream",
          "name": "stdout",
          "text": [
            "              precision    recall  f1-score   support\n",
            "\n",
            "           0       0.68      0.13      0.22       319\n",
            "           1       0.66      0.58      0.62       389\n",
            "           2       0.67      0.11      0.20       394\n",
            "           3       0.57      0.62      0.59       392\n",
            "           4       0.85      0.42      0.56       385\n",
            "           5       0.46      0.85      0.59       395\n",
            "           6       0.87      0.63      0.73       390\n",
            "           7       0.88      0.54      0.67       396\n",
            "           8       0.94      0.45      0.61       398\n",
            "           9       0.98      0.58      0.73       397\n",
            "          10       0.55      0.90      0.68       399\n",
            "          11       0.37      0.82      0.51       396\n",
            "          12       0.72      0.32      0.44       393\n",
            "          13       0.81      0.74      0.77       396\n",
            "          14       0.65      0.75      0.70       394\n",
            "          15       0.44      0.88      0.58       398\n",
            "          16       0.60      0.50      0.55       364\n",
            "          17       0.36      0.88      0.51       376\n",
            "          18       0.54      0.38      0.45       310\n",
            "          19       0.62      0.02      0.04       251\n",
            "\n",
            "    accuracy                           0.57      7532\n",
            "   macro avg       0.66      0.55      0.54      7532\n",
            "weighted avg       0.66      0.57      0.55      7532\n",
            "\n"
          ]
        }
      ]
    },
    {
      "cell_type": "code",
      "metadata": {
        "id": "oIJjytcrT3QI",
        "colab": {
          "base_uri": "https://localhost:8080/"
        },
        "outputId": "143b587e-563a-4edc-f4e9-769e9791ed33"
      },
      "source": [
        "# sklearn's Model\n",
        "sklearn = MultinomialNB()\n",
        "pipe_sk = Pipeline([('vec', vectorizer),\n",
        "                 ('nb', sklearn)])\n",
        "pipe_sk.fit(training_data, training_labels)\n",
        "predictions_sk = pipe_sk.predict(testing_data)\n",
        "accuracy_score(testing_labels, predictions_sk)\n"
      ],
      "execution_count": 235,
      "outputs": [
        {
          "output_type": "execute_result",
          "data": {
            "text/plain": [
              "0.6343600637280935"
            ]
          },
          "metadata": {},
          "execution_count": 235
        }
      ]
    },
    {
      "cell_type": "code",
      "metadata": {
        "colab": {
          "base_uri": "https://localhost:8080/"
        },
        "id": "a1uwEfEwL9tj",
        "outputId": "88a52c74-a0ad-434f-a1bb-d7aa7ab7eee3"
      },
      "source": [
        "# sklearn's Classification report\n",
        "print(classification_report(testing_labels, predictions_sk))"
      ],
      "execution_count": 236,
      "outputs": [
        {
          "output_type": "stream",
          "name": "stdout",
          "text": [
            "              precision    recall  f1-score   support\n",
            "\n",
            "           0       0.65      0.30      0.41       319\n",
            "           1       0.58      0.69      0.63       389\n",
            "           2       0.40      0.01      0.01       394\n",
            "           3       0.53      0.72      0.61       392\n",
            "           4       0.74      0.56      0.64       385\n",
            "           5       0.56      0.81      0.66       395\n",
            "           6       0.85      0.69      0.76       390\n",
            "           7       0.82      0.70      0.76       396\n",
            "           8       0.91      0.62      0.73       398\n",
            "           9       0.94      0.74      0.83       397\n",
            "          10       0.58      0.91      0.71       399\n",
            "          11       0.54      0.79      0.64       396\n",
            "          12       0.71      0.49      0.58       393\n",
            "          13       0.81      0.79      0.80       396\n",
            "          14       0.72      0.75      0.73       394\n",
            "          15       0.46      0.91      0.61       398\n",
            "          16       0.57      0.61      0.59       364\n",
            "          17       0.58      0.80      0.67       376\n",
            "          18       0.46      0.44      0.45       310\n",
            "          19       0.56      0.06      0.11       251\n",
            "\n",
            "    accuracy                           0.63      7532\n",
            "   macro avg       0.65      0.62      0.60      7532\n",
            "weighted avg       0.65      0.63      0.61      7532\n",
            "\n"
          ]
        }
      ]
    },
    {
      "cell_type": "code",
      "metadata": {
        "colab": {
          "base_uri": "https://localhost:8080/"
        },
        "id": "fxbfKC8RMU3x",
        "outputId": "8041aa82-6bc1-4e2e-a3da-3a59d37fe63c"
      },
      "source": [
        "# sklearn's Model with TF-IDF vectorizer\n",
        "sklearn_tf = MultinomialNB()\n",
        "vectorizer_tfidf = TfidfVectorizer(stop_words= 'english')\n",
        "pipe_sk_tf = Pipeline([('vec', vectorizer_tfidf),\n",
        "                 ('nb', sklearn_tf)])\n",
        "pipe_sk_tf.fit(training_data, training_labels)\n",
        "predictions_sk_tf = pipe_sk_tf.predict(testing_data)\n",
        "accuracy_score(testing_labels, predictions_sk_tf)"
      ],
      "execution_count": 237,
      "outputs": [
        {
          "output_type": "execute_result",
          "data": {
            "text/plain": [
              "0.6779075942644716"
            ]
          },
          "metadata": {},
          "execution_count": 237
        }
      ]
    },
    {
      "cell_type": "code",
      "metadata": {
        "colab": {
          "base_uri": "https://localhost:8080/"
        },
        "id": "L46LalcxM94i",
        "outputId": "5127f8ab-58c3-4b9e-ee7f-e70c0d888aa8"
      },
      "source": [
        "# sklearn's Classification report with TF-IDF vectorizer\n",
        "print(classification_report(testing_labels, predictions_sk_tf))"
      ],
      "execution_count": 238,
      "outputs": [
        {
          "output_type": "stream",
          "name": "stdout",
          "text": [
            "              precision    recall  f1-score   support\n",
            "\n",
            "           0       0.76      0.18      0.28       319\n",
            "           1       0.67      0.69      0.68       389\n",
            "           2       0.66      0.58      0.62       394\n",
            "           3       0.60      0.74      0.66       392\n",
            "           4       0.77      0.67      0.71       385\n",
            "           5       0.81      0.77      0.79       395\n",
            "           6       0.78      0.76      0.77       390\n",
            "           7       0.84      0.73      0.78       396\n",
            "           8       0.87      0.74      0.80       398\n",
            "           9       0.92      0.80      0.85       397\n",
            "          10       0.57      0.93      0.71       399\n",
            "          11       0.59      0.79      0.67       396\n",
            "          12       0.72      0.52      0.60       393\n",
            "          13       0.89      0.76      0.82       396\n",
            "          14       0.77      0.74      0.76       394\n",
            "          15       0.37      0.93      0.53       398\n",
            "          16       0.57      0.71      0.63       364\n",
            "          17       0.81      0.79      0.80       376\n",
            "          18       0.89      0.28      0.43       310\n",
            "          19       1.00      0.01      0.02       251\n",
            "\n",
            "    accuracy                           0.68      7532\n",
            "   macro avg       0.74      0.66      0.65      7532\n",
            "weighted avg       0.74      0.68      0.66      7532\n",
            "\n"
          ]
        }
      ]
    },
    {
      "cell_type": "code",
      "metadata": {
        "colab": {
          "base_uri": "https://localhost:8080/",
          "height": 341
        },
        "id": "3_X_GRQPNxsz",
        "outputId": "5013de77-911b-40de-a36b-89e9c6e64b16"
      },
      "source": [
        "# Learning curve plot - sklearn's model\n",
        "plot_learning_curves(np.asarray(training_data), training_labels, np.asarray(testing_data), testing_labels, pipe_sk, print_model= False)\n",
        "plt.show()"
      ],
      "execution_count": 239,
      "outputs": [
        {
          "output_type": "display_data",
          "data": {
            "image/png": "[encoded data removed]",
            "text/plain": [
              "<Figure size 432x288 with 1 Axes>"
            ]
          },
          "metadata": {}
        }
      ]
    },
    {
      "cell_type": "markdown",
      "metadata": {
        "id": "LgOQCY5RRzQ6"
      },
      "source": [
        "**Learning Curve Analysis** \\\n",
        "from the learning curve we can see that the model is low bias and high variance regime.\\\n",
        "we can see that theres a big gap between the misclassification error rates between the training and test set which indicates on high variance\n",
        "\n"
      ]
    },
    {
      "cell_type": "markdown",
      "metadata": {
        "id": "d1S_v22_vDCs"
      },
      "source": [
        "\n",
        "### Bonus I (5 points)\n",
        "#### Model interpretability\n",
        "Find the most important features for a **specific** decision of a NB classifier.\n",
        "Because the model has learned the prior $p(x_i|c)$ during the training, the contribution of an individual feature value can be easily measured by the posterior, $p(c|x_i)=p(c)p(x_i|c)/p(x_i)$\n",
        "Implement a function which gets a scikit-learn NB model as input and returns $P(c|x_i)$:\n",
        "\n",
        "`def calc_p_c_given_xi(model)`\n",
        "\n",
        "Hint: Use the following model properties:\n",
        "\n",
        "* `model.class_log_prior_`\n",
        "* `model.feature_log_prob_`\n",
        "\n",
        "Note: remember these are logs and you need to use np.exp and normalize to get $P(c|x_i)$ \n",
        "Another hint: use numpy built-in broadcasting property.\n",
        "\n",
        "* Use the interpretation to examine errors of the classifier where $\\hat{c}\\ne c$. Which top words support the correct class and which support the wrong class? You can use the `print_txt` below to color words."
      ]
    },
    {
      "cell_type": "code",
      "metadata": {
        "id": "WrTOhkHV9msW",
        "colab": {
          "base_uri": "https://localhost:8080/"
        },
        "outputId": "36ad2d35-6209-4a8d-f405-a54347b0b7e8"
      },
      "source": [
        "import string\n",
        "def print_txt(txt, hot, cold):\n",
        "  \"\"\"\n",
        "  print the text, coloring hot and cold words with colors\n",
        "  \"\"\"\n",
        "  cold_color='\\x1b[41;37m{}\\x1b[0m'\n",
        "  hot_color='\\x1b[42;37m{}\\x1b[0m'\n",
        "  def color(token):\n",
        "    lower = str(token).lower()\n",
        "    lower = lower.replace('\\t','').replace('\\n','')\n",
        "    lower = lower.translate(string.punctuation)\n",
        "    if (lower in hot) and (lower in cold):\n",
        "      return mid_color.format(token)\n",
        "    elif lower in hot:\n",
        "      return hot_color.format(token)\n",
        "    elif lower in cold:\n",
        "      return cold_color.format(token)\n",
        "    else:\n",
        "      return token\n",
        "  colored_txt = \" \".join([color(token) for token in txt.split(' ')])\n",
        "  print(colored_txt)\n",
        "print_txt('This word support the first class but this the other', ['word'],['other'])"
      ],
      "execution_count": 240,
      "outputs": [
        {
          "output_type": "stream",
          "name": "stdout",
          "text": [
            "This \u001b[42;37mword\u001b[0m support the first class but this the \u001b[41;37mother\u001b[0m\n"
          ]
        }
      ]
    },
    {
      "cell_type": "code",
      "metadata": {
        "id": "9Vz_BLhZwI9U"
      },
      "source": [
        "# Implementationn for 1st bonus"
      ],
      "execution_count": 241,
      "outputs": []
    },
    {
      "cell_type": "markdown",
      "metadata": {
        "id": "kww6g1jGv_Fw"
      },
      "source": [
        "### Bonus II (5 points)\n",
        "#### How can you correct the analyzed error?\n",
        "\n",
        "To read more about model interpretation, see the blogpost below and the tutorial:\n",
        "* https://lilianweng.github.io/lil-log/2017/08/01/how-to-explain-the-prediction-of-a-machine-learning-model.html\n",
        "* https://github.com/chanansh/right_but_why"
      ]
    },
    {
      "cell_type": "markdown",
      "metadata": {
        "id": "K4QrAGdiwD6f"
      },
      "source": [
        "Answer for 2nd bonus"
      ]
    }
  ]
}